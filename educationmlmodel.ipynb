{
 "cells": [
  {
   "cell_type": "code",
   "execution_count": 4,
   "id": "6223dc83-fe16-4657-863d-85292ca20180",
   "metadata": {},
   "outputs": [
    {
     "name": "stdout",
     "output_type": "stream",
     "text": [
      "✅ ZIP extracted successfully.\n"
     ]
    }
   ],
   "source": [
    "import zipfile\n",
    "import os\n",
    "\n",
    "# ZIP file ka path (aapne jo diya hai)\n",
    "zip_path = r\"C:\\Users\\vansh\\Downloads\\archive (5).zip\"\n",
    "extract_folder = \"extracted_data\"  # Extracted data yahan store hoga\n",
    "\n",
    "# ZIP file ko extract karna\n",
    "with zipfile.ZipFile(zip_path, 'r') as zip_ref:\n",
    "    zip_ref.extractall(extract_folder)\n",
    "\n",
    "print(\"✅ ZIP extracted successfully.\")\n"
   ]
  },
  {
   "cell_type": "code",
   "execution_count": 5,
   "id": "c6058733-7bfc-4f42-ac8b-29cf06924427",
   "metadata": {},
   "outputs": [
    {
     "data": {
      "text/plain": [
       "['International_Education_Costs.csv']"
      ]
     },
     "execution_count": 5,
     "metadata": {},
     "output_type": "execute_result"
    }
   ],
   "source": [
    "os.listdir(extract_folder)\n"
   ]
  },
  {
   "cell_type": "code",
   "execution_count": 11,
   "id": "204a14e3-921f-4595-bf35-451d0fc97189",
   "metadata": {},
   "outputs": [
    {
     "data": {
      "text/html": [
       "<div>\n",
       "<style scoped>\n",
       "    .dataframe tbody tr th:only-of-type {\n",
       "        vertical-align: middle;\n",
       "    }\n",
       "\n",
       "    .dataframe tbody tr th {\n",
       "        vertical-align: top;\n",
       "    }\n",
       "\n",
       "    .dataframe thead th {\n",
       "        text-align: right;\n",
       "    }\n",
       "</style>\n",
       "<table border=\"1\" class=\"dataframe\">\n",
       "  <thead>\n",
       "    <tr style=\"text-align: right;\">\n",
       "      <th></th>\n",
       "      <th>Country</th>\n",
       "      <th>City</th>\n",
       "      <th>University</th>\n",
       "      <th>Program</th>\n",
       "      <th>Level</th>\n",
       "      <th>Duration_Years</th>\n",
       "      <th>Tuition_USD</th>\n",
       "      <th>Living_Cost_Index</th>\n",
       "      <th>Rent_USD</th>\n",
       "      <th>Visa_Fee_USD</th>\n",
       "      <th>Insurance_USD</th>\n",
       "      <th>Exchange_Rate</th>\n",
       "    </tr>\n",
       "  </thead>\n",
       "  <tbody>\n",
       "    <tr>\n",
       "      <th>0</th>\n",
       "      <td>USA</td>\n",
       "      <td>Cambridge</td>\n",
       "      <td>Harvard University</td>\n",
       "      <td>Computer Science</td>\n",
       "      <td>Master</td>\n",
       "      <td>2.0</td>\n",
       "      <td>55400</td>\n",
       "      <td>83.5</td>\n",
       "      <td>2200</td>\n",
       "      <td>160</td>\n",
       "      <td>1500</td>\n",
       "      <td>1.00</td>\n",
       "    </tr>\n",
       "    <tr>\n",
       "      <th>1</th>\n",
       "      <td>UK</td>\n",
       "      <td>London</td>\n",
       "      <td>Imperial College London</td>\n",
       "      <td>Data Science</td>\n",
       "      <td>Master</td>\n",
       "      <td>1.0</td>\n",
       "      <td>41200</td>\n",
       "      <td>75.8</td>\n",
       "      <td>1800</td>\n",
       "      <td>485</td>\n",
       "      <td>800</td>\n",
       "      <td>0.79</td>\n",
       "    </tr>\n",
       "  </tbody>\n",
       "</table>\n",
       "</div>"
      ],
      "text/plain": [
       "  Country       City               University           Program   Level  \\\n",
       "0     USA  Cambridge       Harvard University  Computer Science  Master   \n",
       "1      UK     London  Imperial College London      Data Science  Master   \n",
       "\n",
       "   Duration_Years  Tuition_USD  Living_Cost_Index  Rent_USD  Visa_Fee_USD  \\\n",
       "0             2.0        55400               83.5      2200           160   \n",
       "1             1.0        41200               75.8      1800           485   \n",
       "\n",
       "   Insurance_USD  Exchange_Rate  \n",
       "0           1500           1.00  \n",
       "1            800           0.79  "
      ]
     },
     "execution_count": 11,
     "metadata": {},
     "output_type": "execute_result"
    }
   ],
   "source": [
    "import pandas as pd\n",
    "\n",
    "# CSV file ka path (extracted folder ke andar)\n",
    "csv_path = os.path.join(extract_folder, \"International_Education_Costs.csv\")  # Change 'train.csv' if needed\n",
    "\n",
    "# Load CSV file\n",
    "df = pd.read_csv(csv_path)\n",
    "df.head(2)\n"
   ]
  },
  {
   "cell_type": "code",
   "execution_count": 9,
   "id": "f3a8c10b-88e9-4cc2-9e54-cca0da517674",
   "metadata": {},
   "outputs": [],
   "source": [
    "df = pd.read_csv(csv_path, encoding='latin1')  # or 'ISO-8859-1' or 'utf-16'\n",
    "\n"
   ]
  },
  {
   "cell_type": "code",
   "execution_count": 12,
   "id": "7814331d-7798-42fe-a2f3-b2081fb1d12a",
   "metadata": {},
   "outputs": [
    {
     "name": "stdout",
     "output_type": "stream",
     "text": [
      "<class 'pandas.core.frame.DataFrame'>\n",
      "RangeIndex: 907 entries, 0 to 906\n",
      "Data columns (total 12 columns):\n",
      " #   Column             Non-Null Count  Dtype  \n",
      "---  ------             --------------  -----  \n",
      " 0   Country            907 non-null    object \n",
      " 1   City               907 non-null    object \n",
      " 2   University         907 non-null    object \n",
      " 3   Program            907 non-null    object \n",
      " 4   Level              907 non-null    object \n",
      " 5   Duration_Years     907 non-null    float64\n",
      " 6   Tuition_USD        907 non-null    int64  \n",
      " 7   Living_Cost_Index  907 non-null    float64\n",
      " 8   Rent_USD           907 non-null    int64  \n",
      " 9   Visa_Fee_USD       907 non-null    int64  \n",
      " 10  Insurance_USD      907 non-null    int64  \n",
      " 11  Exchange_Rate      907 non-null    float64\n",
      "dtypes: float64(3), int64(4), object(5)\n",
      "memory usage: 85.2+ KB\n"
     ]
    },
    {
     "data": {
      "text/html": [
       "<div>\n",
       "<style scoped>\n",
       "    .dataframe tbody tr th:only-of-type {\n",
       "        vertical-align: middle;\n",
       "    }\n",
       "\n",
       "    .dataframe tbody tr th {\n",
       "        vertical-align: top;\n",
       "    }\n",
       "\n",
       "    .dataframe thead th {\n",
       "        text-align: right;\n",
       "    }\n",
       "</style>\n",
       "<table border=\"1\" class=\"dataframe\">\n",
       "  <thead>\n",
       "    <tr style=\"text-align: right;\">\n",
       "      <th></th>\n",
       "      <th>Duration_Years</th>\n",
       "      <th>Tuition_USD</th>\n",
       "      <th>Living_Cost_Index</th>\n",
       "      <th>Rent_USD</th>\n",
       "      <th>Visa_Fee_USD</th>\n",
       "      <th>Insurance_USD</th>\n",
       "      <th>Exchange_Rate</th>\n",
       "    </tr>\n",
       "  </thead>\n",
       "  <tbody>\n",
       "    <tr>\n",
       "      <th>count</th>\n",
       "      <td>907.000000</td>\n",
       "      <td>907.000000</td>\n",
       "      <td>907.000000</td>\n",
       "      <td>907.000000</td>\n",
       "      <td>907.000000</td>\n",
       "      <td>907.000000</td>\n",
       "      <td>907.000000</td>\n",
       "    </tr>\n",
       "    <tr>\n",
       "      <th>mean</th>\n",
       "      <td>2.836825</td>\n",
       "      <td>16705.016538</td>\n",
       "      <td>64.437486</td>\n",
       "      <td>969.206174</td>\n",
       "      <td>211.396913</td>\n",
       "      <td>700.077178</td>\n",
       "      <td>623.000695</td>\n",
       "    </tr>\n",
       "    <tr>\n",
       "      <th>std</th>\n",
       "      <td>0.945449</td>\n",
       "      <td>16582.385275</td>\n",
       "      <td>14.056333</td>\n",
       "      <td>517.154752</td>\n",
       "      <td>143.435740</td>\n",
       "      <td>320.374875</td>\n",
       "      <td>3801.746134</td>\n",
       "    </tr>\n",
       "    <tr>\n",
       "      <th>min</th>\n",
       "      <td>1.000000</td>\n",
       "      <td>0.000000</td>\n",
       "      <td>27.800000</td>\n",
       "      <td>150.000000</td>\n",
       "      <td>40.000000</td>\n",
       "      <td>200.000000</td>\n",
       "      <td>0.150000</td>\n",
       "    </tr>\n",
       "    <tr>\n",
       "      <th>25%</th>\n",
       "      <td>2.000000</td>\n",
       "      <td>2850.000000</td>\n",
       "      <td>56.300000</td>\n",
       "      <td>545.000000</td>\n",
       "      <td>100.000000</td>\n",
       "      <td>450.000000</td>\n",
       "      <td>0.920000</td>\n",
       "    </tr>\n",
       "    <tr>\n",
       "      <th>50%</th>\n",
       "      <td>3.000000</td>\n",
       "      <td>7500.000000</td>\n",
       "      <td>67.500000</td>\n",
       "      <td>900.000000</td>\n",
       "      <td>160.000000</td>\n",
       "      <td>650.000000</td>\n",
       "      <td>1.350000</td>\n",
       "    </tr>\n",
       "    <tr>\n",
       "      <th>75%</th>\n",
       "      <td>4.000000</td>\n",
       "      <td>31100.000000</td>\n",
       "      <td>72.200000</td>\n",
       "      <td>1300.000000</td>\n",
       "      <td>240.000000</td>\n",
       "      <td>800.000000</td>\n",
       "      <td>7.150000</td>\n",
       "    </tr>\n",
       "    <tr>\n",
       "      <th>max</th>\n",
       "      <td>5.000000</td>\n",
       "      <td>62000.000000</td>\n",
       "      <td>122.400000</td>\n",
       "      <td>2500.000000</td>\n",
       "      <td>490.000000</td>\n",
       "      <td>1500.000000</td>\n",
       "      <td>42150.000000</td>\n",
       "    </tr>\n",
       "  </tbody>\n",
       "</table>\n",
       "</div>"
      ],
      "text/plain": [
       "       Duration_Years   Tuition_USD  Living_Cost_Index     Rent_USD  \\\n",
       "count      907.000000    907.000000         907.000000   907.000000   \n",
       "mean         2.836825  16705.016538          64.437486   969.206174   \n",
       "std          0.945449  16582.385275          14.056333   517.154752   \n",
       "min          1.000000      0.000000          27.800000   150.000000   \n",
       "25%          2.000000   2850.000000          56.300000   545.000000   \n",
       "50%          3.000000   7500.000000          67.500000   900.000000   \n",
       "75%          4.000000  31100.000000          72.200000  1300.000000   \n",
       "max          5.000000  62000.000000         122.400000  2500.000000   \n",
       "\n",
       "       Visa_Fee_USD  Insurance_USD  Exchange_Rate  \n",
       "count    907.000000     907.000000     907.000000  \n",
       "mean     211.396913     700.077178     623.000695  \n",
       "std      143.435740     320.374875    3801.746134  \n",
       "min       40.000000     200.000000       0.150000  \n",
       "25%      100.000000     450.000000       0.920000  \n",
       "50%      160.000000     650.000000       1.350000  \n",
       "75%      240.000000     800.000000       7.150000  \n",
       "max      490.000000    1500.000000   42150.000000  "
      ]
     },
     "execution_count": 12,
     "metadata": {},
     "output_type": "execute_result"
    }
   ],
   "source": [
    "# Top 5 rows check karo\n",
    "df.head()\n",
    "\n",
    "# Data types aur missing values check karo\n",
    "df.info()\n",
    "\n",
    "# Summary statistics\n",
    "df.describe()\n"
   ]
  },
  {
   "cell_type": "code",
   "execution_count": null,
   "id": "95b41e2b-6a8a-48d4-96f5-d001309f9051",
   "metadata": {},
   "outputs": [],
   "source": [
    "import pandas as pd\n",
    "from sklearn.model_selection import train_test_split\n",
    "from sklearn.ensemble import RandomForestRegressor\n",
    "from sklearn.preprocessing import StandardScaler\n",
    "from sklearn.metrics import mean_absolute_error, mean_squared_error, r2_score\n",
    "import seaborn as sns\n",
    "import matplotlib.pyplot as plt"
   ]
  },
  {
   "cell_type": "code",
   "execution_count": null,
   "id": "551a5f1f-a9ba-4810-8b85-75a4c2678a18",
   "metadata": {},
   "outputs": [],
   "source": [
    "# Step 2: Features (X) and Target (y)\n",
    "X = df[['Tuition_USD', 'Living_Cost_Index', 'Rent_USD', 'Visa_Fee_USD', 'Insurance_USD', 'Exchange_Rate']]\n",
    "y = df['Duration_Years']  # Target variable (Duration_Years)\n",
    "\n",
    "# Step 3: Feature Scaling\n",
    "scaler = StandardScaler()\n",
    "X_scaled = scaler.fit_transform(X)\n",
    "\n",
    "# Step 4: Train-Test Split (80% train, 20% test)\n",
    "X_train, X_test, y_train, y_test = train_test_split(X_scaled, y, test_size=0.2, random_state=42)\n"
   ]
  },
  {
   "cell_type": "code",
   "execution_count": 25,
   "id": "a2627598-f119-4f25-9615-1594dc68f879",
   "metadata": {},
   "outputs": [],
   "source": [
    "\n",
    "model = RandomForestRegressor(n_estimators=100, random_state=42)\n",
    "model.fit(X_train, y_train)\n",
    "\n",
    "# Step 6: Model Predictions\n",
    "y_pred = model.predict(X_test)\n"
   ]
  },
  {
   "cell_type": "code",
   "execution_count": 26,
   "id": "cea578c0-1a5e-4584-b540-1acabb46373c",
   "metadata": {
    "scrolled": true
   },
   "outputs": [
    {
     "name": "stdout",
     "output_type": "stream",
     "text": [
      "Mean Absolute Error (MAE): 0.7401505102040816\n",
      "Mean Squared Error (MSE): 0.8190140138304864\n",
      "R² Score: 0.10524339729152277\n"
     ]
    },
    {
     "data": {
      "image/png": "[encoded data removed]",
      "text/plain": [
       "<Figure size 800x600 with 1 Axes>"
      ]
     },
     "metadata": {},
     "output_type": "display_data"
    }
   ],
   "source": [
    "\n",
    "# Step 7: Model Evaluation (MAE, MSE, R² Score)\n",
    "mae = mean_absolute_error(y_test, y_pred)\n",
    "mse = mean_squared_error(y_test, y_pred)\n",
    "r2 = r2_score(y_test, y_pred)\n",
    "\n",
    "print(f\"Mean Absolute Error (MAE): {mae}\")\n",
    "print(f\"Mean Squared Error (MSE): {mse}\")\n",
    "print(f\"R² Score: {r2}\")\n",
    "\n",
    "# Step 8: Visualize Actual vs Predicted Values\n",
    "plt.figure(figsize=(8,6))\n",
    "plt.scatter(y_test, y_pred)\n",
    "plt.xlabel('Actual Duration_Years')\n",
    "plt.ylabel('Predicted Duration_Years')\n",
    "plt.title('Actual vs Predicted Duration_Years')\n",
    "plt.show()\n",
    "\n",
    "# Step 9: Feature Importance (Optional)\n",
    "importances = model.feature_importances_\n",
    "feature_names = X.columns\n",
    "\n",
    "# Create a DataFrame for better visualization\n",
    "feature_importance_df = pd.DataFrame({\n",
    "    'Feature': feature_names,\n",
    "    'Importance': importances\n",
    "})\n",
    "\n",
    "# Sort the features by importance\n",
    "feature_importance_df = feature_importance_df.sort_values(by='Importance', ascending=False)\n",
    "\n",
    "\n",
    "\n"
   ]
  },
  {
   "cell_type": "code",
   "execution_count": 20,
   "id": "0c83c491-e26b-4c0f-807e-375f9fe45b1b",
   "metadata": {},
   "outputs": [
    {
     "data": {
      "image/png": "[encoded data removed]",
      "text/plain": [
       "<Figure size 640x480 with 1 Axes>"
      ]
     },
     "metadata": {},
     "output_type": "display_data"
    }
   ],
   "source": [
    "# Plot the feature importances\n",
    "sns.barplot(x='Importance', y='Feature', data=feature_importance_df)\n",
    "plt.title('Feature Importance')\n",
    "plt.show()"
   ]
  },
  {
   "cell_type": "code",
   "execution_count": 19,
   "id": "8cf43438-0367-480a-949c-ee4dd9622059",
   "metadata": {},
   "outputs": [
    {
     "name": "stdout",
     "output_type": "stream",
     "text": [
      "Fitting 5 folds for each of 81 candidates, totalling 405 fits\n",
      "Best Hyperparameters: {'max_depth': 10, 'min_samples_leaf': 2, 'min_samples_split': 10, 'n_estimators': 100}\n",
      "MAE: 0.7504791210286059\n",
      "MSE: 0.7820108148465946\n",
      "R²: 0.14566865992814648\n"
     ]
    }
   ],
   "source": [
    "from sklearn.model_selection import GridSearchCV\n",
    "\n",
    "# Hyperparameters define karo\n",
    "param_grid = {\n",
    "    'n_estimators': [100, 200, 300],\n",
    "    'max_depth': [10, 20, None],\n",
    "    'min_samples_split': [2, 5, 10],\n",
    "    'min_samples_leaf': [1, 2, 4]\n",
    "}\n",
    "\n",
    "# Random Forest Regressor ke liye GridSearchCV setup karo\n",
    "grid_search = GridSearchCV(estimator=RandomForestRegressor(random_state=42),\n",
    "                           param_grid=param_grid, \n",
    "                           cv=5,  # 5-fold cross-validation\n",
    "                           n_jobs=-1, verbose=2)\n",
    "\n",
    "# Fit the grid search model\n",
    "grid_search.fit(X_train, y_train)\n",
    "\n",
    "# Best parameters ko print karo\n",
    "print(f\"Best Hyperparameters: {grid_search.best_params_}\")\n",
    "\n",
    "# Best Model ko evaluate karo\n",
    "best_model = grid_search.best_estimator_\n",
    "y_pred_best = best_model.predict(X_test)\n",
    "\n",
    "# Performance ko evaluate karo\n",
    "mae_best = mean_absolute_error(y_test, y_pred_best)\n",
    "mse_best = mean_squared_error(y_test, y_pred_best)\n",
    "r2_best = r2_score(y_test, y_pred_best)\n",
    "\n",
    "print(f\"MAE: {mae_best}\")\n",
    "print(f\"MSE: {mse_best}\")\n",
    "print(f\"R²: {r2_best}\")\n"
   ]
  },
  {
   "cell_type": "code",
   "execution_count": 27,
   "id": "9e84b48a-367f-4eae-9a7a-8f1c0505a194",
   "metadata": {},
   "outputs": [
    {
     "name": "stdout",
     "output_type": "stream",
     "text": [
      "Cross-validation scores: [-0.1178771  -0.20709832 -0.04776775 -0.08171637  0.06516188]\n",
      "Average Cross-validation score: -0.07785953194660251\n"
     ]
    }
   ],
   "source": [
    "from sklearn.model_selection import cross_val_score\n",
    "\n",
    "# Random Forest Regressor ke liye cross-validation\n",
    "cv_scores = cross_val_score(RandomForestRegressor(n_estimators=100, random_state=42),\n",
    "                            X_train, y_train, cv=5)  # 5-fold cross-validation\n",
    "\n",
    "# Cross-validation scores ko print karo\n",
    "print(f\"Cross-validation scores: {cv_scores}\")\n",
    "print(f\"Average Cross-validation score: {cv_scores.mean()}\")\n"
   ]
  },
  {
   "cell_type": "code",
   "execution_count": 34,
   "id": "3d09ad4f-b6c1-4c1c-ba63-6c3fda754060",
   "metadata": {},
   "outputs": [
    {
     "data": {
      "text/plain": [
       "['trained_model.pkl']"
      ]
     },
     "execution_count": 34,
     "metadata": {},
     "output_type": "execute_result"
    }
   ],
   "source": [
    "import joblib\n",
    "joblib.dump(model, 'trained_model.pkl')"
   ]
  },
  {
   "cell_type": "code",
   "execution_count": 35,
   "id": "5f29fb9a-2ab1-420b-9d6b-660ac9c5430a",
   "metadata": {},
   "outputs": [
    {
     "name": "stdout",
     "output_type": "stream",
     "text": [
      " * Serving Flask app '__main__'\n",
      " * Debug mode: on\n"
     ]
    },
    {
     "name": "stderr",
     "output_type": "stream",
     "text": [
      "WARNING: This is a development server. Do not use it in a production deployment. Use a production WSGI server instead.\n",
      " * Running on http://127.0.0.1:5000\n",
      "Press CTRL+C to quit\n",
      " * Restarting with stat\n"
     ]
    },
    {
     "ename": "SystemExit",
     "evalue": "1",
     "output_type": "error",
     "traceback": [
      "An exception has occurred, use %tb to see the full traceback.\n",
      "\u001b[31mSystemExit\u001b[39m\u001b[31m:\u001b[39m 1\n"
     ]
    },
    {
     "name": "stderr",
     "output_type": "stream",
     "text": [
      "C:\\Users\\vansh\\AppData\\Local\\Programs\\Python\\Python313\\Lib\\site-packages\\IPython\\core\\interactiveshell.py:3675: UserWarning: To exit: use 'exit', 'quit', or Ctrl-D.\n",
      "  warn(\"To exit: use 'exit', 'quit', or Ctrl-D.\", stacklevel=1)\n"
     ]
    }
   ],
   "source": [
    "from flask import Flask, request, jsonify\n",
    "import joblib\n",
    "\n",
    "# Flask app create karo\n",
    "app = Flask(__name__)\n",
    "\n",
    "# Model load karo\n",
    "model = joblib.load('trained_model.pkl')\n",
    "\n",
    "# Route for prediction\n",
    "@app.route('/predict', methods=['POST'])\n",
    "def predict():\n",
    "    data = request.get_json(force=True)\n",
    "    features = [data['Tuition_USD'], data['Living_Cost_Index'], data['Rent_USD'],\n",
    "                data['Visa_Fee_USD'], data['Insurance_USD'], data['Exchange_Rate']]\n",
    "\n",
    "    prediction = model.predict([features])\n",
    "    return jsonify({'prediction': prediction[0]})\n",
    "\n",
    "if __name__ == '__main__':\n",
    "    app.run(debug=True)\n"
   ]
  },
  {
   "cell_type": "code",
   "execution_count": 31,
   "id": "5e91c92a-3324-45ea-a582-c4e0b73ce4b5",
   "metadata": {},
   "outputs": [
    {
     "name": "stdout",
     "output_type": "stream",
     "text": [
      "False\n"
     ]
    }
   ],
   "source": [
    "import os\n",
    "\n",
    "model_path = os.path.join(\"extracted_data\", \"trained_model.pkl\")\n",
    "print(os.path.exists(model_path))  # Agar True aaya toh file exist karti hai\n"
   ]
  },
  {
   "cell_type": "code",
   "execution_count": null,
   "id": "3d254ffa-1ebe-436f-a7b6-9924c8bc4a57",
   "metadata": {},
   "outputs": [],
   "source": []
  }
 ],
 "metadata": {
  "kernelspec": {
   "display_name": "Python 3 (ipykernel)",
   "language": "python",
   "name": "python3"
  },
  "language_info": {
   "codemirror_mode": {
    "name": "ipython",
    "version": 3
   },
   "file_extension": ".py",
   "mimetype": "text/x-python",
   "name": "python",
   "nbconvert_exporter": "python",
   "pygments_lexer": "ipython3",
   "version": "3.13.2"
  }
 },
 "nbformat": 4,
 "nbformat_minor": 5
}
